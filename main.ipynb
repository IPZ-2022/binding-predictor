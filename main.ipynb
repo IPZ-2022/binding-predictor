{
 "cells": [
  {
   "cell_type": "code",
   "execution_count": 7,
   "outputs": [],
   "source": [
    "import numpy as np\n",
    "import pandas as pd\n",
    "from sklearn.model_selection import train_test_split\n",
    "from torch import nn\n",
    "import torch.optim as optim\n",
    "from torch.utils.data import Dataset, DataLoader\n",
    "import torch\n",
    "from matplotlib import pyplot as plt\n",
    "\n",
    "from model.model import Model"
   ],
   "metadata": {
    "collapsed": false,
    "pycharm": {
     "name": "#%%\n"
    }
   }
  },
  {
   "cell_type": "code",
   "execution_count": 8,
   "outputs": [
    {
     "name": "stdout",
     "output_type": "stream",
     "text": [
      "Positive pairs: 84286  |  Negative pairs 448671\n"
     ]
    }
   ],
   "source": [
    "df_ic50 = pd.read_csv('cleared_data/IC50_protein_compound_pair.tsv', delimiter='\\t')\n",
    "df_uniprot = pd.read_csv('cleared_data/dpid_dom.tsv', delimiter='\\t')\n",
    "df_compound = pd.read_csv('cleared_data/dcid_fingerprint.tsv', delimiter='\\t')\n",
    "\n",
    "df = df_ic50.merge(df_uniprot, on='DeepAffinity Protein ID', how='left')\n",
    "df = df.merge(df_compound, on='DeepAffinity Compound ID', how='left')\n",
    "\n",
    "df['label'] = df['pIC50_[M]'] > 8\n",
    "class_weights = torch.tensor([1 / len(df[~df[\"label\"]]), 1 / len(df[df[\"label\"]])],dtype=torch.float)\n",
    "print(f'Positive pairs: {len(df[df[\"label\"]])}  |  Negative pairs {len(df[~df[\"label\"]])}')\n",
    "\n",
    "X_train, X_test, y_train, y_test = train_test_split(df[['Domain Features', 'Fingerprint Feature']], df['label'], test_size=0.2, random_state=42)"
   ],
   "metadata": {
    "collapsed": false,
    "pycharm": {
     "name": "#%%\n"
    }
   }
  },
  {
   "cell_type": "code",
   "execution_count": 9,
   "outputs": [],
   "source": [
    "def str_to_series(x):\n",
    "    return np.array(list(x)).astype('float32')\n",
    "\n",
    "class MyDataset(Dataset):\n",
    "  def __init__(self, x, y):\n",
    "    self.x_1 = torch.tensor(np.stack(x['Fingerprint Feature'].map(str_to_series)))\n",
    "    self.x_2 = torch.tensor(np.stack(x['Domain Features'].map(str_to_series)))\n",
    "    self.y = torch.tensor(y.values, dtype=torch.long)\n",
    "\n",
    "  def __len__(self):\n",
    "    return len(self.y)\n",
    "\n",
    "  def __getitem__(self,idx):\n",
    "    return (self.x_1[idx], self.x_2[idx]), self.y[idx]"
   ],
   "metadata": {
    "collapsed": false,
    "pycharm": {
     "name": "#%%\n"
    }
   }
  },
  {
   "cell_type": "code",
   "execution_count": null,
   "outputs": [],
   "source": [
    "train_ds = MyDataset(X_train, y_train)\n",
    "train_loader = DataLoader(train_ds, batch_size=64, shuffle=True)\n",
    "test_ds = MyDataset(X_test, y_test)\n",
    "test_loader = DataLoader(test_ds, batch_size=64, shuffle=False)"
   ],
   "metadata": {
    "collapsed": false,
    "pycharm": {
     "name": "#%%\n",
     "is_executing": true
    }
   }
  },
  {
   "cell_type": "code",
   "execution_count": null,
   "outputs": [],
   "source": [
    "classes = 2\n",
    "d_model = 64\n",
    "s_len_1 = 881\n",
    "s_len_2 = 16712\n",
    "n = 3\n",
    "heads = 2\n",
    "dropout = 0.1\n",
    "device = 'cuda'"
   ],
   "metadata": {
    "collapsed": false,
    "pycharm": {
     "name": "#%%\n",
     "is_executing": true
    }
   }
  },
  {
   "cell_type": "code",
   "execution_count": null,
   "outputs": [],
   "source": [
    "model = Model(classes, d_model, s_len_1, s_len_2, n, heads, dropout, device)\n",
    "criterion = nn.CrossEntropyLoss(weight=class_weights, reduction='sum')\n",
    "optimizer = optim.SGD(model.parameters(), lr=0.0001, momentum=0.9)"
   ],
   "metadata": {
    "collapsed": false,
    "pycharm": {
     "name": "#%%\n",
     "is_executing": true
    }
   }
  },
  {
   "cell_type": "code",
   "execution_count": null,
   "outputs": [],
   "source": [
    "losses = pd.DataFrame()\n",
    "epochs = 10\n",
    "patience = 5\n",
    "curr_patience = 5\n",
    "min_valid_loss = np.inf\n",
    "\n",
    "for e in range(epochs):\n",
    "    train_loss = 0.0\n",
    "    model.train()  # Optional when not using Model Specific layer\n",
    "    for data, labels in train_loader:\n",
    "        if torch.cuda.is_available():\n",
    "            (x_1, x_2), labels = data.cuda(), labels.cuda()\n",
    "\n",
    "        optimizer.zero_grad()\n",
    "        target = model(*data)\n",
    "        loss = criterion(target, labels)\n",
    "        loss.backward()\n",
    "        optimizer.step()\n",
    "        train_loss += loss.item()\n",
    "\n",
    "    valid_loss = 0.0\n",
    "    model.eval()\n",
    "    for data, labels in test_loader:\n",
    "        if torch.cuda.is_available():\n",
    "            data, labels = data.cuda(), labels.cuda()\n",
    "\n",
    "        target = model(*data)\n",
    "        loss = criterion(target, labels)\n",
    "        valid_loss += loss.item()\n",
    "\n",
    "    losses = pd.concat([losses, pd.DataFrame({'Train_Loss': train_loss / len(train_loader), 'Test_Loss': valid_loss / len(test_loader)}, index=[e])])\n",
    "\n",
    "    print(f'E {e + 1}  |  Train Loss: {train_loss / len(train_loader) :.3f}  |  Test Loss: {valid_loss / len(test_loader) :.3f}')\n",
    "    if min_valid_loss > valid_loss:\n",
    "        min_valid_loss = valid_loss\n",
    "        torch.save(model.state_dict(), 'best_model.pth')\n",
    "        curr_patience = patience\n",
    "    else:\n",
    "        curr_patience -= 1\n",
    "    if curr_patience == 0:\n",
    "        break"
   ],
   "metadata": {
    "collapsed": false,
    "pycharm": {
     "name": "#%%\n",
     "is_executing": true
    }
   }
  },
  {
   "cell_type": "code",
   "execution_count": null,
   "outputs": [],
   "source": [
    "losses.plot()\n",
    "plt.show()"
   ],
   "metadata": {
    "collapsed": false,
    "pycharm": {
     "name": "#%%\n",
     "is_executing": true
    }
   }
  },
  {
   "cell_type": "code",
   "execution_count": null,
   "outputs": [],
   "source": [
    "from sklearn.metrics import accuracy_score, precision_score, recall_score\n",
    "\n",
    "model.load_state_dict(torch.load('best_model.pth'))\n",
    "model.eval()\n",
    "\n",
    "y, y_ = [], []\n",
    "\n",
    "for data, labels in test_loader:\n",
    "        if torch.cuda.is_available():\n",
    "            data, labels = data.cuda(), labels.cuda()\n",
    "        y_.extend(model(*data).detach().cpu().numpy()[:, 1] > 0.5)\n",
    "        y.extend(labels.detach().cpu().numpy())\n",
    "print(f'Accuracy: {accuracy_score(y, y_)}  |  Precision {precision_score(y, y_)}  |  Recall {recall_score(y, y_)}')"
   ],
   "metadata": {
    "collapsed": false,
    "pycharm": {
     "name": "#%%\n",
     "is_executing": true
    }
   }
  },
  {
   "cell_type": "code",
   "execution_count": null,
   "outputs": [],
   "source": [],
   "metadata": {
    "collapsed": false,
    "pycharm": {
     "name": "#%%\n",
     "is_executing": true
    }
   }
  }
 ],
 "metadata": {
  "kernelspec": {
   "display_name": "Python 3",
   "language": "python",
   "name": "python3"
  },
  "language_info": {
   "codemirror_mode": {
    "name": "ipython",
    "version": 2
   },
   "file_extension": ".py",
   "mimetype": "text/x-python",
   "name": "python",
   "nbconvert_exporter": "python",
   "pygments_lexer": "ipython2",
   "version": "2.7.6"
  }
 },
 "nbformat": 4,
 "nbformat_minor": 0
}