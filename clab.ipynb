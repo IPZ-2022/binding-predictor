{
 "cells": [
  {
   "cell_type": "code",
   "execution_count": 5,
   "outputs": [],
   "source": [
    "import numpy as np\n",
    "import pandas as pd\n",
    "from sklearn.model_selection import train_test_split\n",
    "from torch import nn\n",
    "import torch.optim as optim\n",
    "from torch.utils.data import Dataset, DataLoader\n",
    "import torch\n",
    "from matplotlib import pyplot as plt\n",
    "import math\n",
    "import torch.nn.functional as f\n",
    "from torch.autograd import Variable"
   ],
   "metadata": {
    "collapsed": false,
    "pycharm": {
     "name": "#%%\n"
    }
   }
  },
  {
   "cell_type": "code",
   "execution_count": null,
   "outputs": [],
   "source": [
    "trunc_normal_correction = 0.87962566103423978\n",
    "\n",
    "def fan_in(layer: nn.Linear):\n",
    "    return layer.weight.size(1)\n",
    "\n",
    "\n",
    "def fan_out(layer: nn.Linear):\n",
    "    return layer.weight.size(0)\n",
    "\n",
    "\n",
    "def linear_init_with_lecun_normal(layer: nn.Linear):\n",
    "    stdev = math.sqrt(1 / fan_in(layer))/trunc_normal_correction\n",
    "    nn.init.trunc_normal_(layer.weight.data,std = stdev)\n",
    "    if layer.bias is not None:\n",
    "        layer.bias.data.zero_()\n",
    "    return layer\n",
    "\n",
    "\n",
    "def linear_init_with_he_normal(layer: nn.Linear):\n",
    "    stdev = math.sqrt(2 / fan_in(layer))/trunc_normal_correction\n",
    "    nn.init.trunc_normal_(layer.weight.data,std = stdev)\n",
    "    if layer.bias is not None:\n",
    "        layer.bias.data.zero_()\n",
    "    return layer\n",
    "\n",
    "\n",
    "class PositionalEncoder(nn.Module):\n",
    "    def __init__(self, max_seq_length, d_model, device):\n",
    "        super().__init__()\n",
    "        self.d_model = d_model\n",
    "        self.device = device\n",
    "        pe = torch.zeros(max_seq_length, d_model).to(device)\n",
    "        for pos in range(max_seq_length):\n",
    "            for i in range(0, d_model, 2):\n",
    "                pe[pos, i] = \\\n",
    "                    math.sin(pos / (10000 ** ((2 * i) / d_model)))\n",
    "                pe[pos, i + 1] = \\\n",
    "                    math.cos(pos / (10000 ** ((2 * (i + 1)) / d_model)))\n",
    "        pe = pe.unsqueeze(0)\n",
    "        self.register_buffer('pe', pe)\n",
    "\n",
    "    def forward(self, x):\n",
    "        x = x * math.sqrt(self.d_model)\n",
    "        seq_len = x.size(1)\n",
    "        x = x + Variable(self.pe[:, :seq_len], requires_grad=False).to(self.device)\n",
    "        self.std = x.std()\n",
    "        return x\n",
    "\n",
    "\n",
    "class FeedForward(nn.Module):\n",
    "    def __init__(self, d_model, device):\n",
    "        super().__init__()\n",
    "        self.device = device\n",
    "        self.linear_1 = linear_init_with_he_normal(nn.Linear(d_model, 4 * d_model)).to(device)\n",
    "        self.linear_2 = linear_init_with_lecun_normal(nn.Linear(4 * d_model, d_model)).to(device)\n",
    "\n",
    "    def forward(self, x):\n",
    "        x = f.relu(self.linear_1(x))\n",
    "        x = self.linear_2(x)\n",
    "        return x\n",
    "\n",
    "\n",
    "def linear_init_with_glorot_uniform(layer: nn.Linear):\n",
    "    scale = math.sqrt(6 / (fan_in(layer) + fan_out(layer)))\n",
    "    layer.weight.data.uniform_(-scale, scale)\n",
    "    if layer.bias is not None:\n",
    "        layer.bias.data.zero_()\n",
    "    return layer\n",
    "\n",
    "def attention(q, k, v, d_k, device):\n",
    "    heads = (torch.matmul(q, k.transpose(-2, -1)) / math.sqrt(d_k)).to(device)\n",
    "    heads = f.softmax(heads, dim=-1).to(device)\n",
    "    scores = torch.matmul(heads, v).to(device)\n",
    "    return scores, heads\n",
    "\n",
    "\n",
    "\n",
    "class MultiHeadAttention(nn.Module):\n",
    "    def __init__(self, heads, d_model, device):\n",
    "        super().__init__()\n",
    "        self.device = device\n",
    "        self.d_model = d_model\n",
    "        self.d_k = d_model // heads\n",
    "        self.h = heads\n",
    "        self.q_linear = linear_init_with_glorot_uniform(nn.Linear(d_model, d_model)).to(self.device)\n",
    "        self.v_linear = linear_init_with_glorot_uniform(nn.Linear(d_model, d_model)).to(self.device)\n",
    "        self.k_linear = linear_init_with_glorot_uniform(nn.Linear(d_model, d_model)).to(self.device)\n",
    "        self.out = linear_init_with_lecun_normal(nn.Linear(d_model, d_model)).to(self.device)\n",
    "        self.heads = None\n",
    "        self.scores = None\n",
    "\n",
    "    def forward(self, q, k, v):\n",
    "        bs = q.size(0)\n",
    "\n",
    "        # q,k,v ~ (batch, max_seq_length, d_model)\n",
    "        k = self.k_linear(k).view(bs, -1, self.h, self.d_k).to(self.device)\n",
    "        q = self.q_linear(q).view(bs, -1, self.h, self.d_k).to(self.device)\n",
    "        v = self.v_linear(v).view(bs, -1, self.h, self.d_k).to(self.device)\n",
    "\n",
    "        # q,k,v ~ (batch, max_seq_length, h, d_k)\n",
    "        k = k.transpose(1, 2)\n",
    "        q = q.transpose(1, 2)\n",
    "        v = v.transpose(1, 2)\n",
    "\n",
    "        # q,k,v ~ (batch, h, max_seq_length, d_k)\n",
    "        scores, heads = attention(q, k, v, self.d_k, self.device)\n",
    "\n",
    "        # scores ~ (batch, h, max_seq_length, d_k)\n",
    "        scores = scores.transpose(1, 2).contiguous().view(bs, -1, self.d_model)\n",
    "\n",
    "        # scores ~ (batch, max_seq_length, d_model)\n",
    "        output = self.out(scores).to(self.device)\n",
    "        # output ~ (batch, max_seq_length, d_model)\n",
    "\n",
    "        if not self.training:\n",
    "            self.heads = heads.detach()\n",
    "            self.scores = scores.detach()\n",
    "\n",
    "        return output\n",
    "\n",
    "\n",
    "class Encoder(nn.Module):\n",
    "    def __init__(self, s_len_1, s_len_2, d_model, n, heads, dropout, device):\n",
    "        super().__init__()\n",
    "        self.n = n\n",
    "        self.device = device\n",
    "        self.pe_1 = PositionalEncoder(s_len_1, d_model // 2, device)\n",
    "        self.pe_2 = PositionalEncoder(s_len_2, d_model // 2, device)\n",
    "        self.embed_1 = linear_init_with_he_normal(nn.Linear(s_len_1, d_model)).to(device)\n",
    "        self.embed_2 = linear_init_with_he_normal(nn.Linear(s_len_2, d_model)).to(device)\n",
    "        self.layers = nn.ModuleList([EncoderLayer(d_model, heads, dropout, device) for _ in range(n)])\n",
    "        self.relu = nn.ReLU()\n",
    "\n",
    "    def forward(self, x_1, x_2):\n",
    "        x_1 = self.relu(self.embed_1(self.pe_1(x_1).transpose(1, 2)))\n",
    "        x_2 = self.relu(self.embed_2(self.pe_2(x_2).transpose(1, 2)))\n",
    "        x = torch.cat([x_1, x_2], dim=1)\n",
    "        for i in range(self.n):\n",
    "            x = self.layers[i](x)\n",
    "        return x\n",
    "\n",
    "\n",
    "class LayerNorm(nn.Module):\n",
    "    def __init__(self, d_model, device, eps=1e-6):\n",
    "        super().__init__()\n",
    "        self.device = device\n",
    "        self.size = d_model\n",
    "        self.alpha = nn.Parameter(torch.ones(self.size).to(device))\n",
    "        self.bias = nn.Parameter(torch.zeros(self.size).to(device))\n",
    "        self.eps = eps\n",
    "\n",
    "    def forward(self, x):\n",
    "        norm = (self.alpha * (x - x.mean(dim=-1, keepdim=True))\n",
    "                / (x.std(dim=-1, keepdim=True) + self.eps) + self.bias).to(self.device)\n",
    "        return norm\n",
    "\n",
    "\n",
    "class EncoderLayer(nn.Module):\n",
    "    def __init__(self, d_model, heads, dropout, device):\n",
    "        super().__init__()\n",
    "        self.device = device\n",
    "        self.norm_1 = LayerNorm(d_model, device)\n",
    "        self.norm_2 = LayerNorm(d_model, device)\n",
    "        self.attn = MultiHeadAttention(heads, d_model, device)\n",
    "        self.ff = FeedForward(d_model, device)\n",
    "        self.dropout = nn.Dropout(dropout)\n",
    "\n",
    "    def forward(self, x):\n",
    "        x = self.norm_1(x)\n",
    "        x = x + self.dropout(self.attn(x, x, x))\n",
    "        x = self.norm_2(x)\n",
    "        x = x + self.dropout(self.ff(x))\n",
    "        return x\n",
    "\n",
    "\n",
    "class Model(nn.Module):\n",
    "    def __init__(self, classes, d_model, s_len_1, s_len_2, n, heads, dropout, device):\n",
    "        super().__init__()\n",
    "        self.device = device\n",
    "        self.n = n\n",
    "        self.heads = heads\n",
    "        self.d_model = d_model\n",
    "        self.in1 = nn.Linear(1, d_model // 2).to(device)\n",
    "        self.in2 = nn.Linear(1, d_model // 2).to(device)\n",
    "        self.encoder = Encoder(s_len_1, s_len_2, d_model, n, heads, dropout, device)\n",
    "        self.out1 = linear_init_with_he_normal(nn.Linear(d_model ** 2, d_model ** 2 // 4)).to(device)\n",
    "        self.out2 = linear_init_with_he_normal(nn.Linear(d_model ** 2 // 4, d_model // 4 * classes)).to(device)\n",
    "        self.out3 = linear_init_with_lecun_normal(nn.Linear(d_model // 4 * classes, classes)).to(device)\n",
    "        self.dropout = nn.Dropout(dropout)\n",
    "\n",
    "    def forward(self, x_1, x_2):\n",
    "        x_1 = x_1.unsqueeze(-1)\n",
    "        x_2 = x_2.unsqueeze(-1)\n",
    "        x_1 = self.in1(x_1)\n",
    "        x_2 = self.in1(x_2)\n",
    "        x = self.encoder(x_1, x_2)\n",
    "        x = x.view(-1, self.d_model ** 2)\n",
    "        x = f.relu(self.out1(x))\n",
    "        x = f.relu(self.out2(x))\n",
    "        x = self.dropout(self.out3(x))\n",
    "        return x\n"
   ],
   "metadata": {
    "collapsed": false,
    "pycharm": {
     "name": "#%%\n"
    }
   }
  },
  {
   "cell_type": "code",
   "execution_count": 6,
   "outputs": [
    {
     "name": "stdout",
     "output_type": "stream",
     "text": [
      "Positive pairs: 84286  |  Negative pairs 448671\n"
     ]
    }
   ],
   "source": [
    "df_ic50 = pd.read_csv('cleared_data/IC50_protein_compound_pair.tsv', delimiter='\\t')\n",
    "df_uniprot = pd.read_csv('cleared_data/dpid_dom.tsv', delimiter='\\t')\n",
    "df_compound = pd.read_csv('cleared_data/dcid_fingerprint.tsv', delimiter='\\t')\n",
    "\n",
    "df = df_ic50.merge(df_uniprot, on='DeepAffinity Protein ID', how='left')\n",
    "df = df.merge(df_compound, on='DeepAffinity Compound ID', how='left')\n",
    "\n",
    "df['label'] = df['pIC50_[M]'] > 8\n",
    "class_weights = torch.tensor([1 / len(df[~df[\"label\"]]), 1 / len(df[df[\"label\"]])],dtype=torch.float)\n",
    "print(f'Positive pairs: {len(df[df[\"label\"]])}  |  Negative pairs {len(df[~df[\"label\"]])}')\n",
    "\n",
    "X_train, X_test, y_train, y_test = train_test_split(df[['Domain Features', 'Fingerprint Feature']], df['label'], test_size=0.2, random_state=42)"
   ],
   "metadata": {
    "collapsed": false,
    "pycharm": {
     "name": "#%%\n"
    }
   }
  },
  {
   "cell_type": "code",
   "execution_count": 37,
   "outputs": [],
   "source": [
    "def str_to_series(x):\n",
    "    return np.array(list(x)).astype('float32')\n",
    "\n",
    "class MyDataset(Dataset):\n",
    "  def __init__(self, x, y):\n",
    "    self.x_1 = torch.tensor(np.stack(x['Fingerprint Feature'].map(str_to_series)))\n",
    "    self.x_2 = torch.tensor(np.stack(x['Domain Features'].map(str_to_series)))\n",
    "    self.y = torch.tensor(y.values, dtype=torch.long)\n",
    "\n",
    "  def __len__(self):\n",
    "    return len(self.y)\n",
    "\n",
    "  def __getitem__(self,idx):\n",
    "    return (self.x_1[idx], self.x_2[idx]), self.y[idx]"
   ],
   "metadata": {
    "collapsed": false,
    "pycharm": {
     "name": "#%%\n"
    }
   }
  },
  {
   "cell_type": "code",
   "execution_count": 39,
   "outputs": [],
   "source": [
    "classes = 2\n",
    "d_model = 128\n",
    "s_len_1 = 881\n",
    "batch_size = 512\n",
    "s_len_2 = 16712\n",
    "n = 3\n",
    "heads = 2\n",
    "dropout = 0.1\n",
    "device = 'cuda'"
   ],
   "metadata": {
    "collapsed": false,
    "pycharm": {
     "name": "#%%\n"
    }
   }
  },
  {
   "cell_type": "code",
   "execution_count": 38,
   "outputs": [],
   "source": [
    "train_ds = MyDataset(X_train, y_train)\n",
    "train_loader = DataLoader(train_ds, batch_size=batch_size, shuffle=True)\n",
    "test_ds = MyDataset(X_test, y_test)\n",
    "test_loader = DataLoader(test_ds, batch_size=batch_size, shuffle=False)"
   ],
   "metadata": {
    "collapsed": false,
    "pycharm": {
     "name": "#%%\n"
    }
   }
  },
  {
   "cell_type": "code",
   "execution_count": 40,
   "outputs": [],
   "source": [
    "model = Model(classes, d_model, s_len_1, s_len_2, n, heads, dropout, device)\n",
    "criterion = nn.CrossEntropyLoss(weight=class_weights, reduction='sum')\n",
    "optimizer = optim.SGD(model.parameters(), lr=0.0001, momentum=0.9)"
   ],
   "metadata": {
    "collapsed": false,
    "pycharm": {
     "name": "#%%\n"
    }
   }
  },
  {
   "cell_type": "code",
   "execution_count": 41,
   "outputs": [
    {
     "name": "stdout",
     "output_type": "stream",
     "text": [
      "E 1  |  Train Loss: 0.163  |  Test Loss: 0.088\n",
      "E 2  |  Train Loss: 0.109  |  Test Loss: 0.059\n",
      "E 3  |  Train Loss: 0.098  |  Test Loss: 0.056\n",
      "E 4  |  Train Loss: 0.093  |  Test Loss: 0.056\n",
      "E 5  |  Train Loss: 0.093  |  Test Loss: 0.056\n",
      "E 6  |  Train Loss: 0.086  |  Test Loss: 0.056\n",
      "E 7  |  Train Loss: 0.085  |  Test Loss: 0.055\n",
      "E 8  |  Train Loss: 0.081  |  Test Loss: 0.054\n",
      "E 9  |  Train Loss: 0.088  |  Test Loss: 0.053\n",
      "E 10  |  Train Loss: 0.083  |  Test Loss: 0.052\n"
     ]
    }
   ],
   "source": [
    "losses = pd.DataFrame()\n",
    "epochs = 500\n",
    "patience = 5\n",
    "curr_patience = 5\n",
    "min_valid_loss = np.inf\n",
    "\n",
    "for e in range(epochs):\n",
    "    train_loss = 0.0\n",
    "    model.train()  # Optional when not using Model Specific layer\n",
    "    for data, labels in train_loader:\n",
    "        if torch.cuda.is_available():\n",
    "            (x_1, x_2), labels = data.cuda(), labels.cuda()\n",
    "\n",
    "        optimizer.zero_grad()\n",
    "        target = model(*data)\n",
    "        loss = criterion(target, labels)\n",
    "        loss.backward()\n",
    "        optimizer.step()\n",
    "        train_loss += loss.item()\n",
    "\n",
    "    valid_loss = 0.0\n",
    "    model.eval()\n",
    "    for data, labels in test_loader:\n",
    "        if torch.cuda.is_available():\n",
    "            data, labels = data.cuda(), labels.cuda()\n",
    "\n",
    "        target = model(*data)\n",
    "        loss = criterion(target, labels)\n",
    "        valid_loss += loss.item()\n",
    "\n",
    "    losses = pd.concat([losses, pd.DataFrame({'Train_Loss': train_loss / len(train_loader), 'Test_Loss': valid_loss / len(test_loader)}, index=[e])])\n",
    "\n",
    "    print(f'E {e + 1}  |  Train Loss: {train_loss / len(train_loader) :.3f}  |  Test Loss: {valid_loss / len(test_loader) :.3f}')\n",
    "    if min_valid_loss > valid_loss:\n",
    "        min_valid_loss = valid_loss\n",
    "        torch.save(model.state_dict(), 'best_model.pth')\n",
    "        curr_patience = patience\n",
    "    else:\n",
    "        curr_patience -= 1\n",
    "    if curr_patience == 0:\n",
    "        break"
   ],
   "metadata": {
    "collapsed": false,
    "pycharm": {
     "name": "#%%\n"
    }
   }
  },
  {
   "cell_type": "code",
   "execution_count": 42,
   "outputs": [
    {
     "data": {
      "text/plain": "<Figure size 640x480 with 1 Axes>",
      "image/png": "[encoded data removed]"
     },
     "metadata": {},
     "output_type": "display_data"
    }
   ],
   "source": [
    "losses.plot()\n",
    "plt.show()"
   ],
   "metadata": {
    "collapsed": false,
    "pycharm": {
     "name": "#%%\n"
    }
   }
  },
  {
   "cell_type": "code",
   "execution_count": 43,
   "outputs": [
    {
     "name": "stdout",
     "output_type": "stream",
     "text": [
      "Accuracy: 0.765  |  Precision 0.0  |  Recall 0.0\n"
     ]
    },
    {
     "name": "stderr",
     "output_type": "stream",
     "text": [
      "/home/jskrajny/PycharmProjects/binding-predictor/venv/lib/python3.8/site-packages/sklearn/metrics/_classification.py:1344: UndefinedMetricWarning: Precision is ill-defined and being set to 0.0 due to no predicted samples. Use `zero_division` parameter to control this behavior.\n",
      "  _warn_prf(average, modifier, msg_start, len(result))\n"
     ]
    }
   ],
   "source": [
    "from sklearn.metrics import accuracy_score, precision_score, recall_score\n",
    "\n",
    "model.load_state_dict(torch.load('best_model.pth'))\n",
    "model.eval()\n",
    "\n",
    "y, y_ = [], []\n",
    "\n",
    "for data, labels in test_loader:\n",
    "        if torch.cuda.is_available():\n",
    "            data, labels = data.cuda(), labels.cuda()\n",
    "        y_.extend(model(*data).detach().cpu().numpy()[:, 1] > 0.5)\n",
    "        y.extend(labels.detach().cpu().numpy())\n",
    "print(f'Accuracy: {accuracy_score(y, y_)}  |  Precision {precision_score(y, y_)}  |  Recall {recall_score(y, y_)}')"
   ],
   "metadata": {
    "collapsed": false,
    "pycharm": {
     "name": "#%%\n"
    }
   }
  },
  {
   "cell_type": "code",
   "execution_count": 43,
   "outputs": [],
   "source": [],
   "metadata": {
    "collapsed": false,
    "pycharm": {
     "name": "#%%\n"
    }
   }
  }
 ],
 "metadata": {
  "kernelspec": {
   "display_name": "Python 3",
   "language": "python",
   "name": "python3"
  },
  "language_info": {
   "codemirror_mode": {
    "name": "ipython",
    "version": 2
   },
   "file_extension": ".py",
   "mimetype": "text/x-python",
   "name": "python",
   "nbconvert_exporter": "python",
   "pygments_lexer": "ipython2",
   "version": "2.7.6"
  }
 },
 "nbformat": 4,
 "nbformat_minor": 0
}